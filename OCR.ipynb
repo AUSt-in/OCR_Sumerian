{
  "cells": [
    {
      "cell_type": "markdown",
      "metadata": {
        "id": "rHgJNvGEKKlk"
      },
      "source": [
        "#  OCR JupyterBook\n",
        "\n",
        "Welcome to the OCR (Optical Character Recognition) JupyterBook! This comprehensive guide will walk you through the fascinating world of character recognition and translation, specifically focusing on transliterating text from cuneiform scripts into modern-day English using OCR tools like Tesseract through Python.\n",
        "\n",
        "###What You'll Learn\n",
        "\n",
        "In this JupyterBook, you'll embark on a journey to understand the intricate process of optical character recognition and how it can be harnessed to unlock ancient scripts and languages. We'll explore step-by-step how to use Python and powerful OCR libraries like Tesseract to perform these transformations.\n",
        "\n",
        "##How to Get Started\n",
        "\n",
        "To get started, simply run the following cell in Google Colaboratory. This will mount the Jupyter Notebooks to your Google Drive, allowing you to execute the code and follow along with the examples.\n",
        "\n",
        "###Why This Book?\n",
        "\n",
        "Cuneiform scripts, some of the earliest known systems of writing, have held the secrets of ancient civilizations for centuries. By learning how to transliterate and translate these scripts using modern OCR technology, you'll gain the ability to uncover and understand the rich history they contain.\n",
        "\n",
        "###What You'll Find Inside\n",
        "\n",
        "Our OCR JupyterBook is structured to provide a smooth learning experience:\n",
        "\n",
        "1.   Introduction to OCR: We'll start with the basics of OCR, explaining what it is and why it's important. You'll gain a solid understanding of the underlying concepts.\n",
        "\n",
        "2. Setting Up Your Environment: We'll guide you through the process of setting up the necessary tools and libraries, ensuring you have everything you need to dive into OCR.\n",
        "3. Tessaract Walkthrough: In this section we'll help you understand how tessaract works and we will go over some examples\n",
        "4. OCR demonstration: We'll go over how OCR is used by taking some basic examples\n",
        "5. Advanced OCR: Delve into advanced topics, including optimizing OCR processes, handling complex scripts, and overcoming common challenges.\n",
        "6. Transliteration Techniques: Learn how to perform transliteration, the art of converting cuneiform characters into text. Explore different techniques and strategies.\n",
        "7. Statistics on Our models: Apply your newfound knowledge to find statistics on our models.\n",
        "8. Optional Modules: Optional functions that you can implement once you get a good grasp on prior sections.\n",
        "\n",
        "\n",
        "###Who Should Read This Book\n",
        "\n",
        "This JupyterBook is designed for anyone curious about the world of OCR, from beginners who want to grasp the basics to advanced users seeking to tackle complex transliteration and translation tasks. Whether you're an archaeologist, historian, linguist, or simply an enthusiast eager to decode ancient texts, you'll find valuable insights here.\n",
        "\n",
        "###Let's Begin!\n",
        "\n",
        "We invite you to embark on this exciting journey into the world of OCR and character recognition. Whether you're here for academic, professional, or personal reasons, the knowledge and skills you'll gain are sure to be rewarding. So, let's get started by running the setup cell and exploring the fascinating realm of OCR!"
      ]
    },
    {
      "cell_type": "markdown",
      "metadata": {
        "id": "OuLcZ3_gF77c"
      },
      "source": [
        "#I. Introduction\n",
        "\n",
        "\n",
        "Note: If you do not have any prior knowledge of what OCR is and how it works works that is completely fine. Through each step I will walk you through of what the program does.\n",
        "\n",
        "\n",
        "Side Note: It is advised to learn basics of Python and its libraries from online sources like CodeCamp(Youtube) or by taking a week course from Coursera.\n",
        "\n",
        "So without wasting any time let's dive into importing the necessary libraries for initial part of the project"
      ]
    },
    {
      "cell_type": "markdown",
      "metadata": {
        "id": "kYfL0HqjIUfz"
      },
      "source": [
        "Note: Green Lines mentioned below are comments on what the code does and does not affect the code if you delete it. They are written for you to understand"
      ]
    },
    {
      "cell_type": "code",
      "execution_count": null,
      "metadata": {
        "id": "RdIhu6O0Md7b"
      },
      "outputs": [],
      "source": [
        "\n",
        "from pydrive.auth import GoogleAuth\n",
        "from pydrive.drive import GoogleDrive\n",
        "from google.colab import auth\n",
        "from oauth2client.client import GoogleCredentials"
      ]
    },
    {
      "cell_type": "code",
      "execution_count": 1,
      "metadata": {
        "id": "rU8Tdf5LI6n2"
      },
      "outputs": [],
      "source": [
        "import pandas as pd #pandas library\n",
        "import os #operating system\n",
        "import json #json query\n",
        "import csv #working with CSV"
      ]
    },
    {
      "cell_type": "code",
      "execution_count": null,
      "metadata": {
        "id": "zt73ypdDIGtx"
      },
      "outputs": [],
      "source": [
        "# We are authenticating the user through the gmail account.\n",
        "auth.authenticate_user()\n",
        "gauth = GoogleAuth()\n",
        "gauth.credentials = GoogleCredentials.get_application_default()\n",
        "drive = GoogleDrive(gauth)"
      ]
    },
    {
      "cell_type": "code",
      "execution_count": null,
      "metadata": {
        "id": "QqPe5d0AKEPL"
      },
      "outputs": [],
      "source": [
        "from google.colab import drive\n",
        "drive.mount('/content/src')"
      ]
    },
    {
      "cell_type": "markdown",
      "metadata": {
        "id": "aeA_DwuRhfgn"
      },
      "source": [
        "###A. Working With CSV\n",
        "1. In the provided code below, the file_directory variable is first populated with a list of filenames found in the directory.\n",
        "2. Then, for each file in the directory that has a '.txt' file extension, the code extracts the file's title (filename) and its content (the text within the file) and stores them in separate lists, 'Title' and 'Content'.\n",
        "3. Finally, these lists are used to create a Pandas DataFrame/Table called 'your_csv' with two columns, 'Title' and 'Content', which can be used for further analysis or data manipulation.\n"
      ]
    },
    {
      "cell_type": "code",
      "execution_count": null,
      "metadata": {
        "id": "vCjOVoEpJ1FD"
      },
      "outputs": [],
      "source": [
        "file_directory = os.listdir('src_link')\n",
        "#Columns for the table\n",
        "Title = []\n",
        "Content = []\n",
        "for file in file_directory:\n",
        "  if file.endswith('.txt'):\n",
        "    Title.append(file)\n",
        "    Content.append(open('src_link' + file, 'r').read()) ##You still need to replace the path here\n",
        "\n",
        "your_csv = pd.DataFrame({'Title':Title, 'Content':Content}) #Building a table\n",
        "your_csv #printing it"
      ]
    },
    {
      "cell_type": "code",
      "execution_count": null,
      "metadata": {
        "id": "SASYM_ifKIih"
      },
      "outputs": [],
      "source": [
        "#Saving your CSV file\n",
        "your_csv.to_csv('name.csv', index=False) #Change it with the directory you want to save"
      ]
    },
    {
      "cell_type": "markdown",
      "metadata": {
        "id": "1eeOoGgChgeC"
      },
      "source": [
        "###B. Logging Our Tasks\n",
        "\n",
        "\n",
        "We are building a logger function that logs in words that have INFO in it which means important words. Iterating through files and folders(parent) from drive. It uses some query parameters to fetch data and is simultaneously working with logger to debug and track the whole run\n",
        "\n",
        "This code below configures a logging system in Python. This logger is used to record log messages in your Python code with the specified configuration.\n",
        "\n",
        "Note: If you want to read the code below and don't know where to start finish understanding the first block and go to last block of code and start from there"
      ]
    },
    {
      "cell_type": "code",
      "execution_count": 2,
      "metadata": {
        "id": "VPXXtIfEI_yS"
      },
      "outputs": [],
      "source": [
        "import logging\n",
        "\n",
        "# It sets the logging level to INFO, defines a specific log message format including a timestamp and\n",
        "#thread name, and creates a logger object named 'logger' with the same INFO logging level.\n",
        "logging.basicConfig(level=logging.INFO,\n",
        "                    format='%(asctime)s %(levelname)s %(threadName)-10s %(message)s',)\n",
        "logger = logging.getLogger(__name__)\n",
        "logger.setLevel(logging.INFO)"
      ]
    },
    {
      "cell_type": "code",
      "execution_count": 3,
      "metadata": {
        "id": "lUd9wuRpJYN_"
      },
      "outputs": [],
      "source": [
        "#This function is designed to catalog and write information about files in a directory tree into a CSV file\n",
        "#named 'catalog.csv' located in the directory.\n",
        "def catalog_walk(top):\n",
        "  snapshot_file = '/snapshot'\n",
        "  csvoptions = {'dialect': csv.excel}\n",
        "\n",
        "  OUTFILE = open(\"/link\", \"a\")\n",
        "  #Only takes 1000000 and you can replace the number\n",
        "  csvwriter = csv.writer(OUTFILE)\n",
        "  maxfiles = 1000000\n",
        "  big_loop(top, csvwriter, maxfiles)\n",
        "  OUTFILE.close()"
      ]
    },
    {
      "cell_type": "code",
      "execution_count": 4,
      "metadata": {
        "id": "6_QZzBvDJVi6"
      },
      "outputs": [],
      "source": [
        "#This function iterates through files and directories under the specified top-level directory,extracts metadata\n",
        "#for each file and directory, and writes this metadata to a CSV file using the provided csvwriter.\n",
        "#It stops processing and returns when the total count of processed files exceeds the maxfiles.\n",
        "\n",
        "def big_loop(top, csvwriter, maxfiles):\n",
        "  fc = 0\n",
        "  for path, root, dirs, files in walk(top=top, by_name=False, snapshot_file=snapshot_file):\n",
        "\n",
        "      dirpath = '/'.join(path)\n",
        "      id, _, _, mimeType, createdTime, modifiedTime = extract_metadata(root)\n",
        "      md5Checksum = len(dirs)\n",
        "      size = len(files)\n",
        "      row = [id, dirpath]\n",
        "      csvwriter.writerow(row)\n",
        "      fc = fc + 1\n",
        "      for f in files:\n",
        "          if fc >= maxfiles:\n",
        "              logger.info('quitting: {} files found'.format(fc))\n",
        "              return\n",
        "          fc = fc + 1\n",
        "          id, md5Checksum, size, mimeType, createdTime, modifiedTime = extract_metadata(f)\n",
        "          md5Checksum = f.get('md5Checksum', 'None')\n",
        "          row = [id, md5Checksum, size, mimeType, createdTime, modifiedTime, dirpath,f['name']]\n",
        "          csvwriter.writerow(row)"
      ]
    },
    {
      "cell_type": "code",
      "execution_count": 5,
      "metadata": {
        "id": "CnYdrSfaJMIs"
      },
      "outputs": [],
      "source": [
        "#This function recursively walks through a directory and retrieves information about directories and files,\n",
        "#such as their names, IDs, and MIME types, and organizes them into a hierarchical structure.\n",
        "#The function uses a stack-based approach to traverse the directory tree, allowing  it to handle nested directories\n",
        "#effectively. It also includes functionality to optionally save and load a snapshot of the traversal state to\n",
        "#resume processing later.\n",
        "\n",
        "def walk(top='root', by_name=False, snapshot_file='stack_snapshot.json'):\n",
        "    try:\n",
        "        with open(snapshot_file) as f:\n",
        "            stack = json.loads(f.read())\n",
        "    except FileNotFoundError:\n",
        "        logger.info('no stack snapshot found')\n",
        "        stack = None\n",
        "    if not stack:\n",
        "        if by_name:\n",
        "            top, = iterfiles(name=top, is_folder=True)\n",
        "        else:\n",
        "            top = service.files().get(fileId=top).execute()\n",
        "            if top['mimeType'] != FOLDER:\n",
        "                raise ValueError('not a folder: %r' % top)\n",
        "        stack = [([top['name']], top)]\n",
        "    while stack:\n",
        "        logger.info('stack size {}'.format(len(stack)))\n",
        "        with open(snapshot_file, 'w') as file:\n",
        "            file.write(json.dumps(stack))\n",
        "        path, top = stack.pop()\n",
        "        logger.info('dir {}'.format(path))\n",
        "        dirs, files = is_file = [], []\n",
        "        for f in iterfiles(parent=top['id']):\n",
        "            is_file[f['mimeType'] != FOLDER].append(f)\n",
        "        logger.info('subdirs {} files {}'.format(len(dirs), len(files)))\n",
        "        yield path, top, dirs, files\n",
        "        if dirs:\n",
        "            logger.debug('dirs {}'.format(dirs))\n",
        "            logger.debug('path {}'.format(path))\n",
        "            newstuff = [(path + [d['name']], d) for d in reversed(dirs)]\n",
        "            logger.debug('extend: {}'.format(newstuff))\n",
        "            stack.extend(newstuff)"
      ]
    },
    {
      "cell_type": "code",
      "execution_count": 6,
      "metadata": {
        "id": "J9qzS7gtJCeY"
      },
      "outputs": [],
      "source": [
        "#Iterfiles uses the Google Drive API  to search for files and folders based on specific criteria\n",
        "#such as name, folder status, and parent folder. It retrieves information about these files and folders,\n",
        "#such as their IDs, names, MIME types, and more. The function yields each file or folder one at a time,\n",
        "#allowing for iteration over search results in a convenient way. In short this is efficient function\n",
        "# for searching in a directory\n",
        "\n",
        "def iterfiles(name=None, is_folder=None, parent=None, order_by='folder,name,createdTime'):\n",
        "    q = []\n",
        "    if name is not None:\n",
        "        q.append(\"name = '%s'\" % name.replace(\"'\", \"\\\\'\"))\n",
        "    if is_folder is not None:\n",
        "        q.append(\"mimeType %s '%s'\" % ('=' if is_folder else '!=', FOLDER))\n",
        "    if parent is not None:\n",
        "        q.append(\"'%s' in parents\" % parent.replace(\"'\", \"\\\\'\"))\n",
        "    fields = ['id',\n",
        "        'name', 'mimeType', 'md5Checksum', 'webViewLink',\n",
        "        'createdTime', 'modifiedTime', 'size']\n",
        "    fields = ['id', 'title', 'mimeType']\n",
        "    params = {'pageToken': None, 'orderBy': order_by,\n",
        "              'fields': 'kind, nextPageToken, incompleteSearch, files(id, name, mimeType, md5Checksum, webViewLink, createdTime, modifiedTime, size)'}\n",
        "    if q:\n",
        "        params['q'] = ' and '.join(q)\n",
        "    while True:\n",
        "        logger.debug('params {}'.format(params))\n",
        "        response = service.files().list(**params).execute()\n",
        "        logger.debug('response {}'.format(response))\n",
        "        for f in response['files']:\n",
        "            yield f\n",
        "        try:\n",
        "            params['pageToken'] = response['nextPageToken']\n",
        "        except KeyError:\n",
        "            return"
      ]
    },
    {
      "cell_type": "code",
      "execution_count": 7,
      "metadata": {
        "id": "S5i4AQAsJS8h"
      },
      "outputs": [],
      "source": [
        "#This Python function takes a object called node as input. It extracts various metadata/ information\n",
        "#attributes such as ID, MD5 checksum, etc from the 'node' object and returns them as a tuple in the order\n",
        "#If any attributes is missing it sets it to NONE\n",
        "def extract_metadata(node):\n",
        "    md5Checksum = node.get('md5Checksum', 'None')\n",
        "    size = node.get('size', 'None')\n",
        "    mimeType = node.get('mimeType', 'None')\n",
        "    webViewLink = node.get('webViewLink', 'None')\n",
        "    id = node.get('id', 'None')\n",
        "    createdTime = node.get('createdTime', 'None')\n",
        "    modifiedTime = node.get('modifiedTime', 'None')\n",
        "    name = node.get('name', 'None')\n",
        "    return id, md5Checksum, size, mimeType, createdTime, modifiedTime"
      ]
    },
    {
      "cell_type": "code",
      "execution_count": 8,
      "metadata": {
        "id": "5Cj7zLPpJali"
      },
      "outputs": [
        {
          "ename": "OSError",
          "evalue": "[Errno 30] Read-only file system: '/link'",
          "output_type": "error",
          "traceback": [
            "\u001b[0;31m---------------------------------------------------------------------------\u001b[0m",
            "\u001b[0;31mOSError\u001b[0m                                   Traceback (most recent call last)",
            "Cell \u001b[0;32mIn[8], line 5\u001b[0m\n\u001b[1;32m      3\u001b[0m snapshot_file \u001b[38;5;241m=\u001b[39m \u001b[38;5;124m'\u001b[39m\u001b[38;5;124m/text_file_name.txt\u001b[39m\u001b[38;5;124m'\u001b[39m\n\u001b[1;32m      4\u001b[0m FOLDER \u001b[38;5;241m=\u001b[39m \u001b[38;5;124m'\u001b[39m\u001b[38;5;124mapplication/vnd.google-apps.folder\u001b[39m\u001b[38;5;124m'\u001b[39m\n\u001b[0;32m----> 5\u001b[0m \u001b[43mcatalog_walk\u001b[49m\u001b[43m(\u001b[49m\u001b[43mtop\u001b[49m\u001b[43m)\u001b[49m\n",
            "Cell \u001b[0;32mIn[3], line 7\u001b[0m, in \u001b[0;36mcatalog_walk\u001b[0;34m(top)\u001b[0m\n\u001b[1;32m      4\u001b[0m snapshot_file \u001b[38;5;241m=\u001b[39m \u001b[38;5;124m'\u001b[39m\u001b[38;5;124m/snapshot\u001b[39m\u001b[38;5;124m'\u001b[39m\n\u001b[1;32m      5\u001b[0m csvoptions \u001b[38;5;241m=\u001b[39m {\u001b[38;5;124m'\u001b[39m\u001b[38;5;124mdialect\u001b[39m\u001b[38;5;124m'\u001b[39m: csv\u001b[38;5;241m.\u001b[39mexcel}\n\u001b[0;32m----> 7\u001b[0m OUTFILE \u001b[38;5;241m=\u001b[39m \u001b[38;5;28;43mopen\u001b[39;49m\u001b[43m(\u001b[49m\u001b[38;5;124;43m\"\u001b[39;49m\u001b[38;5;124;43m/link\u001b[39;49m\u001b[38;5;124;43m\"\u001b[39;49m\u001b[43m,\u001b[49m\u001b[43m \u001b[49m\u001b[38;5;124;43m\"\u001b[39;49m\u001b[38;5;124;43ma\u001b[39;49m\u001b[38;5;124;43m\"\u001b[39;49m\u001b[43m)\u001b[49m\n\u001b[1;32m      8\u001b[0m \u001b[38;5;66;03m#Only takes 1000000 and you can replace the number\u001b[39;00m\n\u001b[1;32m      9\u001b[0m csvwriter \u001b[38;5;241m=\u001b[39m csv\u001b[38;5;241m.\u001b[39mwriter(OUTFILE)\n",
            "File \u001b[0;32m/Library/Frameworks/Python.framework/Versions/3.11/lib/python3.11/site-packages/IPython/core/interactiveshell.py:284\u001b[0m, in \u001b[0;36m_modified_open\u001b[0;34m(file, *args, **kwargs)\u001b[0m\n\u001b[1;32m    277\u001b[0m \u001b[38;5;28;01mif\u001b[39;00m file \u001b[38;5;129;01min\u001b[39;00m {\u001b[38;5;241m0\u001b[39m, \u001b[38;5;241m1\u001b[39m, \u001b[38;5;241m2\u001b[39m}:\n\u001b[1;32m    278\u001b[0m     \u001b[38;5;28;01mraise\u001b[39;00m \u001b[38;5;167;01mValueError\u001b[39;00m(\n\u001b[1;32m    279\u001b[0m         \u001b[38;5;124mf\u001b[39m\u001b[38;5;124m\"\u001b[39m\u001b[38;5;124mIPython won\u001b[39m\u001b[38;5;124m'\u001b[39m\u001b[38;5;124mt let you open fd=\u001b[39m\u001b[38;5;132;01m{\u001b[39;00mfile\u001b[38;5;132;01m}\u001b[39;00m\u001b[38;5;124m by default \u001b[39m\u001b[38;5;124m\"\u001b[39m\n\u001b[1;32m    280\u001b[0m         \u001b[38;5;124m\"\u001b[39m\u001b[38;5;124mas it is likely to crash IPython. If you know what you are doing, \u001b[39m\u001b[38;5;124m\"\u001b[39m\n\u001b[1;32m    281\u001b[0m         \u001b[38;5;124m\"\u001b[39m\u001b[38;5;124myou can use builtins\u001b[39m\u001b[38;5;124m'\u001b[39m\u001b[38;5;124m open.\u001b[39m\u001b[38;5;124m\"\u001b[39m\n\u001b[1;32m    282\u001b[0m     )\n\u001b[0;32m--> 284\u001b[0m \u001b[38;5;28;01mreturn\u001b[39;00m \u001b[43mio_open\u001b[49m\u001b[43m(\u001b[49m\u001b[43mfile\u001b[49m\u001b[43m,\u001b[49m\u001b[43m \u001b[49m\u001b[38;5;241;43m*\u001b[39;49m\u001b[43margs\u001b[49m\u001b[43m,\u001b[49m\u001b[43m \u001b[49m\u001b[38;5;241;43m*\u001b[39;49m\u001b[38;5;241;43m*\u001b[39;49m\u001b[43mkwargs\u001b[49m\u001b[43m)\u001b[49m\n",
            "\u001b[0;31mOSError\u001b[0m: [Errno 30] Read-only file system: '/link'"
          ]
        }
      ],
      "source": [
        "# directory you want to catalog\n",
        "top = 'directory_you_want_to_store'\n",
        "snapshot_file = '/text_file_name.txt'\n",
        "FOLDER = 'application/vnd.google-apps.folder'\n",
        "catalog_walk(top)"
      ]
    },
    {
      "cell_type": "markdown",
      "metadata": {
        "id": "_dpPZQPpbU_c"
      },
      "source": [
        "# II. Tessaract Walkthrough\n"
      ]
    },
    {
      "cell_type": "markdown",
      "metadata": {
        "id": "ktyO1vYnv6g_"
      },
      "source": [
        "Description:\n",
        "This JupyterBook serves as a comprehensive guide for newcomers to Tesseract OCR (Optical Character Recognition).\n",
        "\n",
        "Inside this book, you'll find:\n",
        "\n",
        "1. **Introduction to Tesseract**: An overview of what Tesseract OCR is, its capabilities, and why it's essential in various applications.\n",
        "\n",
        "2. **Installation Guide**: Step-by-step instructions to set up Tesseract on your system.\n",
        "\n",
        "3. **Basic Usage**: A simple introduction to using Tesseract to extract text from images or scanned documents.\n",
        "\n",
        "4. **Advanced Features**: Exploring Tesseract's advanced features, including language support, image preprocessing, and optimizing accuracy.\n",
        "\n",
        "By the end of this JupyterBook, you'll have a solid understanding of how to set up and effectively use Tesseract OCR, making it accessible to beginners and enabling you to harness the power of text recognition for your projects and applications."
      ]
    },
    {
      "cell_type": "code",
      "execution_count": 11,
      "metadata": {
        "id": "vMfmzhBORXRq"
      },
      "outputs": [
        {
          "ename": "ModuleNotFoundError",
          "evalue": "No module named 'gcld3'",
          "output_type": "error",
          "traceback": [
            "\u001b[0;31m---------------------------------------------------------------------------\u001b[0m",
            "\u001b[0;31mModuleNotFoundError\u001b[0m                       Traceback (most recent call last)",
            "Cell \u001b[0;32mIn[11], line 3\u001b[0m\n\u001b[1;32m      1\u001b[0m \u001b[38;5;28;01mimport\u001b[39;00m \u001b[38;5;21;01mpytesseract\u001b[39;00m\n\u001b[1;32m      2\u001b[0m \u001b[38;5;28;01mfrom\u001b[39;00m \u001b[38;5;21;01mpytesseract\u001b[39;00m \u001b[38;5;28;01mimport\u001b[39;00m TesseractError\n\u001b[0;32m----> 3\u001b[0m \u001b[38;5;28;01mfrom\u001b[39;00m \u001b[38;5;21;01mgcld3\u001b[39;00m \u001b[38;5;28;01mimport\u001b[39;00m NNetLanguageIdentifier\n\u001b[1;32m      4\u001b[0m \u001b[38;5;28;01mfrom\u001b[39;00m \u001b[38;5;21;01mPIL\u001b[39;00m \u001b[38;5;28;01mimport\u001b[39;00m Image, ImageDraw\n\u001b[1;32m      5\u001b[0m \u001b[38;5;28;01mimport\u001b[39;00m \u001b[38;5;21;01mlang\u001b[39;00m\n",
            "\u001b[0;31mModuleNotFoundError\u001b[0m: No module named 'gcld3'"
          ]
        }
      ],
      "source": [
        "import pytesseract\n",
        "from pytesseract import TesseractError\n",
        "from gcld3 import NNetLanguageIdentifier\n",
        "from PIL import Image, ImageDraw\n",
        "import lang\n",
        "import lang.langcodes\n",
        "import lang.detect\n",
        "import os\n",
        "import fitz\n",
        "import pandas as pd\n",
        "from io import StringIO\n",
        "import re\n",
        "import csv\n",
        "import time\n",
        "import warnings\n",
        "import requests\n",
        "import langdetect"
      ]
    },
    {
      "cell_type": "code",
      "execution_count": null,
      "metadata": {
        "id": "oIcbD_lFRfj1"
      },
      "outputs": [],
      "source": [
        "#To Check what languges Pytessaract recognizes\n",
        "pytesseract.get_languages()\n",
        "\n",
        "url = 'https://r12a.github.io/scripts/arabic/images/kashida-justification.png'\n",
        "\n",
        "# Use use own image URL in the url area to generate an image\n",
        "src = Image.open(requests.get(url, stream=True).raw)\n",
        "src"
      ]
    },
    {
      "cell_type": "code",
      "execution_count": null,
      "metadata": {
        "id": "-sr6FWdGSDlT"
      },
      "outputs": [],
      "source": [
        "#These functions below are commonly used in evaluating the performance of text recognition or classification systems.\n",
        "#`precision` calculates the proportion of characters in the 'output' that are correct compared to the 'truth.'\n",
        "def precision(truth, output):\n",
        "  return len([c for c in output if c in truth]) / len(output)\n",
        "#`recall` calculates the proportion of characters in the 'truth' that are correctly detected in the 'output.'\n",
        "def recall(truth, output):\n",
        "  return len([c for c in truth if c in output]) / len(truth)\n",
        "\n",
        "#timing the code session\n",
        "%%timeit\n",
        "correct = pytesseract.image_to_string(src, lang='ara')\n",
        "correct"
      ]
    },
    {
      "cell_type": "code",
      "execution_count": null,
      "metadata": {
        "id": "HnF3KleeSPx3"
      },
      "outputs": [],
      "source": [
        "two_lang_out = pytesseract.image_to_string(src, lang='eng+ara')\n",
        "correct = pytesseract.image_to_string(src, lang='ara')\n",
        "precision(correct, two_lang_out), recall(correct, two_lang_out)"
      ]
    },
    {
      "cell_type": "code",
      "execution_count": null,
      "metadata": {
        "id": "EY3OK_inSgiu"
      },
      "outputs": [],
      "source": [
        "#Test Code to check if image gets converted to string\n",
        "src = Image.open('./src.png')\n",
        "src\n",
        "pytesseract.image_to_string(src)\n",
        "\n"
      ]
    },
    {
      "cell_type": "code",
      "execution_count": null,
      "metadata": {
        "id": "x8QP342STufh"
      },
      "outputs": [],
      "source": [
        "#checking the confidence level of of OCR!\n",
        "conf = [c for c in meta.conf if c >= 0]\n",
        "sum(conf) / len(conf)"
      ]
    },
    {
      "cell_type": "code",
      "execution_count": null,
      "metadata": {
        "id": "leE-ACcHVFNd"
      },
      "outputs": [],
      "source": [
        "#The code converts an image to grayscale and then applies a threshold to make pixels with values above 220\n",
        "#white and pixels below 220 black.\n",
        "def threshold(im):\n",
        "  return im.convert('LA').point(lambda p: 255 * (p > 220))"
      ]
    },
    {
      "cell_type": "code",
      "execution_count": null,
      "metadata": {
        "id": "yWs2h15rUED_"
      },
      "outputs": [],
      "source": [
        "#language detection with preexisting python libraries\n",
        "detected = langdetect.detect_langs('aseklfae fhuasdf')[0]\n",
        "detected.lang in {'cy': 23, 'ara': 234}"
      ]
    },
    {
      "cell_type": "markdown",
      "metadata": {
        "id": "Fbhs3c0MbWX9"
      },
      "source": [
        "#III. OCR Demonstration"
      ]
    },
    {
      "cell_type": "markdown",
      "metadata": {
        "id": "6dp_xFJKUTFu"
      },
      "source": [
        "In this section, we delve into the fascinating world of Optical Character Recognition (OCR). We'll demystify the basics of OCR, showing you how this technology works its magic in converting printed or handwritten text into digital, machine-readable form. Whether you're a newcomer to OCR or looking to refresh your knowledge, this segment is designed to equip you with a fundamental understanding of OCR's key principles and how it can be a game-changer in data processing and document management. Let's embark on this journey to unravel the secrets of OCR and discover its wide-ranging applications."
      ]
    },
    {
      "cell_type": "code",
      "execution_count": null,
      "metadata": {
        "id": "v8LepY6HVnfU"
      },
      "outputs": [],
      "source": [
        "#This function reads data from a Sheets specified by 'title' and 'worksheet,' and then creates a DataFrame\n",
        "#using the data. If 'has_headers' is True, it assumes the first row contains column names.\n",
        "def get_df(title, gc, worksheet=0, has_headers=True):\n",
        "    contents = gc.open(title).get_worksheet(worksheet).get_all_values()\n",
        "    if has_headers:\n",
        "        return pd.DataFrame.from_records(\n",
        "            data=contents[1:],\n",
        "            columns=contents[0]\n",
        "        )\n",
        "    return pd.DataFrame.from_records(contents)"
      ]
    },
    {
      "cell_type": "code",
      "execution_count": null,
      "metadata": {
        "id": "AyQGgja5Z3xh"
      },
      "outputs": [],
      "source": [
        "#This code performs image erosion on 'img' using a 5x5 kernel and displays the result.\n",
        "kernel = np.ones((5, 5))\n",
        "eroded = cv.erode(img, kernel)\n",
        "plt.imshow(eroded)"
      ]
    },
    {
      "cell_type": "code",
      "execution_count": null,
      "metadata": {
        "id": "mgSN2LJHaD2M"
      },
      "outputs": [],
      "source": [
        "#This code detects and draws lines in the 'img' using the Hough Line Transform(algorithm), creating a new image\n",
        "# 'lines_img' with the detected lines highlighted.\n",
        "lines = cv.HoughLinesP(canny, rho=1, theta=0.01, threshold=0, minLineLength=50)\n",
        "lines_img = np.copy(img) * 0\n",
        "for line in lines:\n",
        "  for x1, y1, x2, y2 in line:\n",
        "    lines_img = cv.line(lines_img, (x1, y1), (x2, y2), (255, 255, 255), 5)\n",
        "plt.imshow(lines_img)\n",
        "\n",
        "#This code calculates the average angle of detected lines in 'lines' and estimates the rotation angle\n",
        "#of a page based on those lines.\n",
        "angles = []\n",
        "for line in lines:\n",
        "  for x1, y1, x2, y2 in line:\n",
        "    angles.append(math.atan2(y2-y1, x2-x1))\n",
        "print('The page is rotated by {} radians.'.format(sum(angles) / len(angles)))"
      ]
    },
    {
      "cell_type": "markdown",
      "metadata": {
        "id": "6fS5vvHq0aL1"
      },
      "source": [
        "Some additional functions that you can along with logger file function to make make the task more automated"
      ]
    },
    {
      "cell_type": "code",
      "execution_count": null,
      "metadata": {
        "id": "_0t4wN-z0jkV"
      },
      "outputs": [],
      "source": [
        "#Reads a catalog, tracks processed files, and performs OCR on remaining files.\n",
        "#Iterates through the catalog, applies OCR, and updates the completion status.\n",
        "def run(catalog_path, out, success):\n",
        "  catalog = pd.read_csv(catalog_path)\n",
        "  with open(success, 'r') as f:\n",
        "    try:\n",
        "      completed = int(f.read())\n",
        "    except ValueError:\n",
        "      completed = 0\n",
        "  for idx in catalog.index[completed:]:\n",
        "    row = catalog.iloc[idx]\n",
        "    id = str(row['ID'])\n",
        "    path = os.path.join(row['Folder'], row['Name'])\n",
        "    save_ocr(path, os.path.join(out, id))\n",
        "    completed += 1\n",
        "    with open(success, 'w') as f:\n",
        "      f.write(str(completed))"
      ]
    },
    {
      "cell_type": "code",
      "execution_count": null,
      "metadata": {
        "id": "PbiLQXx0UWJk"
      },
      "outputs": [],
      "source": [
        "#This class is used to estimate the accuracy of text extraction  from images. It does so by displaying images\n",
        "#and prompting the user to verify accuracy, and collecting accuracy data. The 'mean' method calculates and\n",
        "#returns the mean accuracy from the collected data.\n",
        "class TextAccuracyEstimator:\n",
        "\n",
        "  def __init__(self, root, text, random):\n",
        "    self.accuracies = list()\n",
        "    self._text = text\n",
        "    self._page_paths = [\n",
        "        os.path.join(root, 'images', path) for path in self._text.page_paths\n",
        "        if path.endswith('ppm')\n",
        "    ]\n",
        "    self.random = random\n",
        "\n",
        "  def run(self, n):\n",
        "    while len(self.accuracies) < n:\n",
        "      page_idx = self.random.integers(len(self._page_paths))\n",
        "      metadata = self._text.page_metadata[page_idx]\n",
        "      page = Image.open(self._page_paths[page_idx])\n",
        "      word_idx = self.random.choice(metadata.index)\n",
        "      row = metadata.loc[word_idx]\n",
        "      if (pd.isna(row.text)):\n",
        "        continue\n",
        "      fig, axes = plt.subplots(1, 4)\n",
        "      fig.set_figwidth(15)\n",
        "      for i in range(4):\n",
        "        if row.left < page.size[0] and row.top < page.size[1]:\n",
        "          word = page.crop(\n",
        "                (row.left, row.top, row.left+row.width, row.top+row.height))\n",
        "          try:\n",
        "            axes[i].imshow(word)\n",
        "          except:\n",
        "            warnings.warn('Could not render {}'.format(str(word)))\n",
        "        page = page.rotate(90, expand=True)\n",
        "      plt.show(block=False)\n",
        "      plt.pause(0.1)\n",
        "      display(Markdown('    {}'.format(row.text)))\n",
        "      self.accuracies.append('y' in input('Is this correct (y/n)?\\n').lower())\n",
        "\n",
        "  def mean(self):\n",
        "    return sum(self.accuracies) / len(self.accuracies)"
      ]
    },
    {
      "cell_type": "code",
      "execution_count": null,
      "metadata": {
        "id": "QE2dEbzRQBCt"
      },
      "outputs": [],
      "source": [
        "#This class performs cross-text OCR accuracy analysis, with methods to calculate accuracy,\n",
        "#find the mean, and visualize the accuracy distribution.\n",
        "class CrossTextAnalysis:\n",
        "\n",
        "  def __init__(self, root, random):\n",
        "    self.root = root\n",
        "    self.random = random\n",
        "    self.texts = list()\n",
        "    self.accuracy_estimators = list()\n",
        "\n",
        "  def run(self, n):\n",
        "    for text, dir in get_texts(self.root):\n",
        "      self.texts.append(text)\n",
        "      estimator = TextAccuracyEstimator(dir, text, self.random)\n",
        "      self.accuracy_estimators.append(estimator)\n",
        "      estimator.run(n)\n",
        "\n",
        "  def accuracies(self):\n",
        "    return [estimator.mean() for estimator in self.accuracy_estimators]\n",
        "\n",
        "  def mean(self):\n",
        "    return sum(self.accuracies()) / len(self.accuracy_estimators)\n",
        "\n",
        "  def hist(self):\n",
        "    plt.hist(self.accuracies())\n",
        "    plt.xlabel('Accuracy')\n",
        "    plt.title('Distribution of OCR Accuracy by Text')\n",
        "    plt.show(block=False)\n",
        "\n",
        "#running the ocr file as a whole on large documents\n",
        "run(\n",
        "    os.path.join(output_path, 'catalog.csv'),\n",
        "    output_path,\n",
        "    os.path.join(output_path, 'success.txt')\n",
        ")"
      ]
    },
    {
      "cell_type": "markdown",
      "metadata": {
        "id": "VMlrjF2hmGv-"
      },
      "source": [
        "#IV. OCR Working & Implementation\n",
        "In this section we have created functions designed for Optical Character Recognition (OCR) to efficiently extract text from images or scanned documents. These functions are capable of processing images, determining correct text orientation, and employing OCR technology to extract text. They provide a user-friendly and effective approach for newcomers to implement OCR in their projects."
      ]
    },
    {
      "cell_type": "code",
      "execution_count": null,
      "metadata": {
        "id": "QfD_0TwfWeqV"
      },
      "outputs": [],
      "source": [
        "#We have two functions, get_model and get_tokenizer, which return a T5 model and a T5 tokenizer, respectively.\n",
        "def get_model():\n",
        "    model = T5ForConditionalGeneration.from_pretrained('t5-small')\n",
        "    return model\n",
        "\n",
        "def get_tokenizer():\n",
        "    tokenizer = T5Tokenizer.from_pretrained('t5-small')\n",
        "    return tokenizer\n",
        "\n",
        "\n",
        "tokenizer = get_tokenizer()\n",
        "model = get_model()"
      ]
    },
    {
      "cell_type": "code",
      "execution_count": null,
      "metadata": {
        "id": "5jNwf9UIWlZm"
      },
      "outputs": [],
      "source": [
        "#This function generates summarizations for a list of tokenized texts using the T5 model, applying specified\n",
        "#parameters and constraints, and then concatenates the generated summaries into a single output.\n",
        "def get_summarization(tokenized_texts, min_length, max_length):\n",
        "    outputs = \"\"\n",
        "    for text in tokenized_texts:\n",
        "        summary_ids = model.generate(text,\n",
        "                                    num_beams=4,\n",
        "                                    no_repeat_ngram_size=2,\n",
        "                                    min_length=min_length,\n",
        "                                    max_length=max_length,\n",
        "                                    early_stopping=True)\n",
        "        output = tokenizer.decode(summary_ids[0], skip_special_tokens=True)\n",
        "        outputs += output\n",
        "    return outputs"
      ]
    },
    {
      "cell_type": "code",
      "execution_count": null,
      "metadata": {
        "id": "23QaGMa3WhK1"
      },
      "outputs": [],
      "source": [
        "#This function preprocesses a long text by removing leading/trailing spaces and line breaks, then splits\n",
        "#it into smaller chunks of 512 characters each. It adds \"summarize:\" to each chunk, tokenizes them using a\n",
        "#T5 tokenizer, and returns a list of tokenized chunks.\n",
        "def preprocess(texts):\n",
        "    preprocess_texts = texts.strip().replace(\"\\n\", \"\")\n",
        "    texts1 = [preprocess_texts[n*512: (n+1)*512] for n in range(len(preprocess_texts) // 512)]\n",
        "    tokens=[]\n",
        "    for text in texts1:\n",
        "        t5_prepared_Text = \"summarize: \"+ text\n",
        "        tokenized_text = tokenizer.encode(t5_prepared_Text, return_tensors=\"pt\")\n",
        "        tokens.append(tokenized_text)\n",
        "    return tokens"
      ]
    },
    {
      "cell_type": "code",
      "execution_count": null,
      "metadata": {
        "id": "EkCvqHHRWsTf"
      },
      "outputs": [],
      "source": [
        "#The code processes a batch of text data, generates summaries for each text, and saves the summaries in\n",
        "#separate text files with incremental filenames.\n",
        "su.shape[0]\n",
        "contents = su['Content']\n",
        "summaries = []\n",
        "\n",
        "for text in contents:\n",
        "    tokenized_texts1 = preprocess(text)\n",
        "    outputs = get_summarization(tokenized_texts1, 10, 30)\n",
        "    name = \"src\" + str(i) + \".txt\"\n",
        "    with open(name,'w') as f:\n",
        "        f.write(outputs)\n",
        "    f.close()\n",
        "    i += 1"
      ]
    },
    {
      "cell_type": "code",
      "execution_count": null,
      "metadata": {
        "id": "mQdixYfjUi8j"
      },
      "outputs": [],
      "source": [
        "#The code analyzes an image to detect a \"Right Upper\" region by examining columns, and if a specific pattern of\n",
        "#pixels is found, it prints \"Right Upper detected.\"\n",
        "def checkLeftSuper(img):\n",
        "  left, bottom, dim = img.shape\n",
        "  firstBlack = 0\n",
        "  secondWhite = 0\n",
        "  for i in range(bottom):\n",
        "    perpendicularLine = img[:, i, 0]\n",
        "    if sum(perpendicularLine) != left:\n",
        "      firstBlack = i\n",
        "      break\n",
        "  for i in range(firstBlack, bottom):\n",
        "    perpendicularLine = img[:, i, 0]\n",
        "    if sum(perpendicularLine) == left:\n",
        "      secondWhite = i\n",
        "      break\n",
        "  horizontalLine = img[left//2, :secondWhite, 0]\n",
        "  if sum(horizontalLine) == secondWhite:\n",
        "    print(\"Left Upper detected.\")"
      ]
    },
    {
      "cell_type": "code",
      "execution_count": null,
      "metadata": {
        "id": "KGqHEGHiUqPc"
      },
      "outputs": [],
      "source": [
        "#This function checks for a \"Right Upper\" region in an image and prints \"Right Upper detected\" if found.\n",
        "def checkRightSuper(img):\n",
        "  left, bottom, dim = img.shape\n",
        "  firstBlack = 0\n",
        "  secondWhite = 0\n",
        "  for i in reversed(range(bottom)):\n",
        "    perpendicularLine = img[:, i, 0]\n",
        "    if sum(perpendicularLine) != left:\n",
        "      firstBlack = i\n",
        "      break\n",
        "  for i in reversed(range(0, firstBlack)):\n",
        "    perpendicularLine = img[:, i, 0]\n",
        "    if sum(perpendicularLine) == left:\n",
        "      secondWhite = i\n",
        "      break\n",
        "  horizontalLine = img[left//2, secondWhite:, 0]\n",
        "  if sum(horizontalLine) == (bottom-secondWhite):\n",
        "    print(\"Right Upper detected.\")"
      ]
    },
    {
      "cell_type": "code",
      "execution_count": null,
      "metadata": {
        "id": "G7zo6De-Ut1J"
      },
      "outputs": [],
      "source": [
        "#Checks for superscript in an image\n",
        "def checkIfSuper(img):\n",
        "  plt.imshow(img)\n",
        "  checkLeftSuper(img)\n",
        "  checkRightSuper(img)"
      ]
    },
    {
      "cell_type": "code",
      "execution_count": null,
      "metadata": {
        "id": "5JvFUaMqVMqp"
      },
      "outputs": [],
      "source": [
        "#This code batch-processes PDF files, extracting text while ensuring correct orientation. It iterates\n",
        "#through the PDFs, converts pages to images, and rotates them if needed based on word frequencies.\n",
        "#Extracted text is saved in text files, and orientation errors are logged in a separate file.\n",
        "\n",
        "data_dir = 'src' #Input dir: a folder contains all your pdf\n",
        "output_dir = 'src' #Output dir: any folder you specify\n",
        "\n",
        "output_error_file = output_dir + 'failed_pages.txt' #Page the are failed in ocr process specified to pdf name and page number\n",
        "\n",
        "for idx, pdf in enumerate(os.listdir(data_dir)[1:]):\n",
        "  without_pdf = pdf.replace('.pdf', '')\n",
        "  temp_input_name = data_dir + '{}'\n",
        "\n",
        "  PDF_file = data_dir+'{}'.format(pdf)\n",
        "  temp_output_name = output_dir + '{}.txt'\n",
        "  output_file = temp_output_name.format(without_pdf)\n",
        "  print(\"The pdf you are working on is \"+PDF_file+\"\\n\")\n",
        "  pages = convert_from_path(PDF_file)\n",
        "\n",
        "  if os.path.isdir(\"src#\"+str(idx)) == False:\n",
        "    print(\"New folder is created\")\n",
        "    os.mkdir(\"src#\"+str(idx))\n",
        "  print(len(pages))\n",
        "\n",
        "\n",
        "  for page_idx, page in enumerate(pages):\n",
        "    img_count = page_idx + 1\n",
        "    print(\"image idx: \", img_count)\n",
        "    save_name = 'src#'+str(idx)+\"/page_\"+str(img_count)+\".jpg\"\n",
        "    filename = \"page_\"+str(img_count)+\".jpg\"\n",
        "    flag = False\n",
        "\n",
        "    for i in range(4):\n",
        "      text = str(((pytesseract.image_to_string(Image.open(save_name)))))\n",
        "      cnt = Counter()\n",
        "      cnt.update(text.split())\n",
        "      print(cnt['the'],cnt['de'],cnt['bu'],cnt['im'],cnt['che'],cnt['del'],cnt['e'],cnt['la'])\n",
        "      if((cnt['the'] < 3) == True and (cnt['de'] < 3) == True and (cnt['bu'] < 3) == True and (cnt['im'] < 3) == True and ((cnt['e'] + cnt['che'] + cnt['del'] + cnt['la'] < 5) == True)):\n",
        "        page2 = page.rotate(90*i)\n",
        "      else:\n",
        "        flag = True\n",
        "        break\n",
        "\n",
        "    if flag == False:\n",
        "      f_error = open(output_error_file, \"a\")\n",
        "      message = \"Page \" + str(img_count) + \" in PDF \" + pdf + \" failed to find the correct orientation.\\n\"\n",
        "      f_error.write(message)\n",
        "      f_error.close()\n",
        "    else:\n",
        "      text = str(((pytesseract.image_to_string(Image.open(save_name)))))\n",
        "\n",
        "      f = open(output_file, \"w+\")\n",
        "      text = text.replace('-\\n', '')\n",
        "      f.write(text)\n",
        "      f.close()"
      ]
    },
    {
      "cell_type": "code",
      "execution_count": null,
      "metadata": {
        "id": "te-auYGVn1kP"
      },
      "outputs": [],
      "source": [
        "#This function calculates the sum of word frequencies in a Counter, giving higher weights to the top 2, 5, and 10 most common words.\n",
        "def dict_common_sum(cntr):\n",
        "  sum = 0\n",
        "  for word, freq in cntr.most_common(2):\n",
        "    sum += freq * 2\n",
        "  for word, freq in cntr.most_common(5):\n",
        "    sum += freq * 2\n",
        "  for word, freq in cntr.most_common(10):\n",
        "    sum += freq\n",
        "  return sum"
      ]
    },
    {
      "cell_type": "code",
      "execution_count": null,
      "metadata": {
        "id": "GVdTctWY-r4w"
      },
      "outputs": [],
      "source": [
        "#1. It processes files and directories in a specified directory, collecting metadata such as ID, size, MIME type, and timestamps for each directory.\n",
        "#2. For each PDF file in the directory, it extracts pages and determines the correct orientation based on text analysis.\n",
        "#3. It saves the oriented pages as JPEG images and logs orientation errors in \"failed_pages.txt.\"\n",
        "#4. The code randomly selects a subset of pages (up to 5 or 10% of total pages) for orientation analysis.\n",
        "#5. It rotates pages to identify the correct orientation and extracts text from them using OCR.\n",
        "#6. It collects and saves text data, page IDs, and PDF names for further processing.\n",
        "\n",
        "def big_loop(top, csvwriter, maxfiles):\n",
        "\n",
        "  fc = 0\n",
        "\n",
        "  if os.path.isdir(output_dir) == False:\n",
        "    os.mkdir(output_dir)\n",
        "\n",
        "\n",
        "  for path, root, dirs, files in walk(top=top, by_name=False):\n",
        "      dirpath = '/'.join(path)\n",
        "      id, _, _, mimeType, createdTime, modifiedTime = extract_metadata(root)\n",
        "      md5Checksum = len(dirs)\n",
        "      size = len(files)\n",
        "      row = [id, md5Checksum, size, mimeType, createdTime, modifiedTime, dirpath]\n",
        "      csvwriter.writerow(row)\n",
        "      fc = fc + 1\n",
        "\n",
        "\n",
        "      for pdf_index in range(len(files)):\n",
        "        folder_name = str(files[pdf_index]['id'])+'/'\n",
        "        folder_name_failed = str(id)+'/failed_pages.txt'\n",
        "        pdf_numbers = len(files)\n",
        "        file_name = input_dir[:-1]+'/'+files[pdf_index]['name']\n",
        "        if ((file_name.endswith('.pdf') == False) and (file_name.endswith('.PDF')== False)):\n",
        "          continue\n",
        "        pages = convert_from_path(file_name)\n",
        "        if os.path.isdir(output_dir+folder_name) == False:\n",
        "          print(\"New folder is created\")\n",
        "          os.mkdir(output_dir+folder_name)\n",
        "        csv_id = []\n",
        "        csv_text = []\n",
        "        pdf_name = []\n",
        "        output_error_file = output_dir +folder_name+ 'failed_pages.txt'\n",
        "        cnt0, cnt1, cnt2, cnt3 = Counter(), Counter(), Counter(), Counter()\n",
        "        num_to_select = max(min(5, len(pages)), int(0.1 * len(pages)))\n",
        "        test_pages = random.sample(pages, num_to_select)\n",
        "\n",
        "\n",
        "        for page_idx, page in enumerate(test_pages):\n",
        "          img_count = page_idx + 1\n",
        "          print(\"image idx: \", img_count)\n",
        "          save_name = output_dir+folder_name+\"page_\"+str(img_count)+\".jpg\"\n",
        "          page.save(save_name, 'JPEG')\n",
        "\n",
        "\n",
        "          for i in range(4):\n",
        "            text = str(((pytesseract.image_to_string(Image.open(save_name)))))\n",
        "            if (i == 0):\n",
        "              cnt0.update(text.split())\n",
        "            if (i == 1):\n",
        "              cnt1.update(text.split())\n",
        "            if (i == 2):\n",
        "              cnt2.update(text.split())\n",
        "            if (i == 3):\n",
        "              cnt3.update(text.split())\n",
        "            page2 = page.rotate(90*(i + 1))\n",
        "            page2.save(save_name,  'JPEG')\n",
        "        w_0, w_1, w_2, w_3 = dict_common_sum(cnt0), dict_common_sum(cnt1), dict_common_sum(cnt2), dict_common_sum(cnt3)\n",
        "        top_orient = max(w_0, w_1, w_2, w_3)\n",
        "\n",
        "        if w_0 == top_orient:\n",
        "          k = -1\n",
        "        if w_1 == top_orient:\n",
        "          k = 0\n",
        "        if w_2 == top_orient:\n",
        "          k = 1\n",
        "        if w_3 == top_orient:\n",
        "          k = 2\n",
        "\n",
        "        print(\"Orientation to be used\" + str(k))\n",
        "        print(cnt0)\n",
        "        print(len(cnt0))\n",
        "        print(w_0)\n",
        "        print(cnt1)\n",
        "        print(len(cnt1))\n",
        "        print(w_1)\n",
        "        print(cnt2)\n",
        "        print(len(cnt2))\n",
        "        print(w_2)\n",
        "        print(cnt3)\n",
        "        print(len(cnt3))\n",
        "        print(w_3)\n",
        "\n",
        "        for page_idx, page in enumerate(pages):\n",
        "          img_count = page_idx + 1\n",
        "          print(\"image idx: \", img_count)\n",
        "          save_name = output_dir+folder_name+\"page_\"+str(img_count)+\".jpg\"\n",
        "          page.save(save_name, 'JPEG')\n",
        "          print(\"Page\")\n",
        "          page2 = page.rotate(90*(k + 1))\n",
        "          page2.save(save_name,  'JPEG')\n",
        "          text = str(((pytesseract.image_to_string(Image.open(save_name)))))\n",
        "          csv_text.append(text)\n",
        "          csv_id.append(str(files[pdf_index]['id'])+\"_\"+str(img_count))\n",
        "          pdf_name.append(files[pdf_index]['name'])\n",
        "\n"
      ]
    },
    {
      "cell_type": "markdown",
      "metadata": {
        "id": "201EPdLFmAbk"
      },
      "source": [
        "#V. Transliteration"
      ]
    },
    {
      "cell_type": "markdown",
      "metadata": {
        "id": "LJVcDKtSZzwE"
      },
      "source": [
        "The transliteration section implements various functions for converting characters between different languages in a text. These functions use visual and contextual cues to replace characters with their corresponding transliterations, allowing for accurate text conversion across languages."
      ]
    },
    {
      "cell_type": "code",
      "execution_count": null,
      "metadata": {
        "id": "PZx3PU2TsCnu"
      },
      "outputs": [],
      "source": [
        "#This line of code extracts text from the image 'translit1' using the 'xyz' language.\n",
        "print(pytesseract.image_to_string(\"src\", lang='xyz'))"
      ]
    },
    {
      "cell_type": "code",
      "execution_count": null,
      "metadata": {
        "id": "5DCUmvAMsG_v"
      },
      "outputs": [],
      "source": [
        "#Extract text data (including coordinates and other information) from the image 'src' using the 'xyz' language.\n",
        "print(pytesseract.image_to_data(\"src\", lang='xyz'))"
      ]
    },
    {
      "cell_type": "code",
      "execution_count": null,
      "metadata": {
        "id": "tuNHRcFusIlj"
      },
      "outputs": [],
      "source": [
        "#Extracts text boxes from the image 'src' and then splits the result into lines.\n",
        "pytesseract.image_to_boxes(\"src\").split('\\n')"
      ]
    },
    {
      "cell_type": "code",
      "execution_count": null,
      "metadata": {
        "id": "UJpJCxUxsMJK"
      },
      "outputs": [],
      "source": [
        "#printing single characters\n",
        "for box in pytesseract.image_to_boxes(\"src\").split('\\n'):\n",
        "  if box:\n",
        "    left, bottom, right, top = (int(s) for s in box.split()[1:-1])\n",
        "    print(left, bottom, right, top)\n",
        "    try:\n",
        "      plt.imshow(\"src\".crop((left, \"src\".height - top, right, \"src\".height - bottom)))\n",
        "    except: pass\n",
        "    plt.show(block=False)\n",
        "    plt.pause(0.01)"
      ]
    },
    {
      "cell_type": "code",
      "execution_count": null,
      "metadata": {
        "id": "Tp3GYQIusfaa"
      },
      "outputs": [],
      "source": [
        "#This code processes the input string 'ṬṭÁáÚúĀāŪū' using a function called 'deaccent' to remove diacritics or accents, resulting in 'TtAaUuAaUu'.\n",
        "deaccent('ṬṭÁáÚúĀāŪū')"
      ]
    },
    {
      "cell_type": "code",
      "execution_count": null,
      "metadata": {
        "id": "9u0b0PV1riA-"
      },
      "outputs": [],
      "source": [
        "#This code helps select characters for multilingual text processing by assigning weights based on character similarity and language context.\n",
        "#It then chooses the character with the highest weight for accurate text processing.\n",
        "universal_chars = set('`1234567890-=~!@#$%^&*()_+[]\\\\;\\',./{}|:\"<>?')\n",
        "\n",
        "charsets = {\n",
        "  'ces': set('AÁBCČDĎEÉĚFGHChIÍJKLMNŇOÓPRŘSŠTŤUÚŮVXYÝZŽaábcčdďeéěfghchiíjklmnňo'\n",
        "             'óprřsštťuúůvxyýzž0123456789') | universal_chars,\n",
        "  'eng': set('AaBbCcDdEeFfGgHhIiJjKkLlMmNnOoPpQqRrSsTtUuVvWwXxYyZz'\n",
        "            ) | universal_chars,\n",
        "}\n",
        "\n",
        "char_lookalikes = [\n",
        "  set('8S¥sš'),\n",
        "  set('I[|{/\\\\'),\n",
        "  set('I]|}/\\\\'),\n",
        "  set('|l1'),\n",
        "  set('.,'),\n",
        "  set('—-'),\n",
        "]\n",
        "\n",
        "def char_kin(char0, char1):\n",
        "  return deaccent(char0) == deaccent(char1) or any(\n",
        "    (char0 in s and char1 in s) for s in char_lookalikes)\n",
        "\n",
        "def choose_char(chars):\n",
        "  weights = {\n",
        "    c: (len(chars) - 1 - i) / (len(chars) ** 2)\n",
        "    for i, (_, c) in enumerate(chars)\n",
        "    if c != ''\n",
        "  }\n",
        "  for language, c in chars:\n",
        "    if language in charsets:\n",
        "      weights[c] += 1 / len(chars) # This is just a tie-breaker.\n",
        "      for other in weights:\n",
        "        if other in charsets[language] and other != c:\n",
        "          weights[other] -= 1\n",
        "  ret = max(weights.keys(), key=lambda c: weights[c])\n",
        "  print('DEBUG: chars={}, choosing {}'.format(str(chars), ret))\n",
        "  return ret"
      ]
    },
    {
      "cell_type": "code",
      "execution_count": null,
      "metadata": {
        "id": "-zC1wMtlYxKs"
      },
      "outputs": [],
      "source": [
        "#This code uses PyTesseract to perform character-based transliteration on an image. It replaces characters\n",
        "#with their corresponding transliterated counterparts, considering similarity and context.\n",
        "def translit(image, box_sim_thresh=0.65):\n",
        "  flagship_language = 'ces'\n",
        "\n",
        "  other_languages = [k for k in charsets.keys() if k != flagship_language]\n",
        "\n",
        "  data = pytesseract.image_to_data(\n",
        "    image, lang=flagship_language, output_type=Output.DICT)\n",
        "\n",
        "  flagship_boxes = pytesseract.image_to_boxes(\n",
        "    image, lang=flagship_language, output_type=Output.DICT)\n",
        "\n",
        "  other_boxes = {\n",
        "        language: pytesseract.image_to_boxes(\n",
        "          image, lang=language, output_type=Output.DICT)\n",
        "        for language in other_languages\n",
        "      }\n",
        "  chars = list()\n",
        "\n",
        "\n",
        "  for char0, box0 in zip(flagship_boxes['char'], zip(\n",
        "      flagship_boxes['left'], flagship_boxes['bottom'],\n",
        "      flagship_boxes['right'], flagship_boxes['top']\n",
        "      )):\n",
        "    matches = [(flagship_language, char0)]\n",
        "\n",
        "    for other in other_languages:\n",
        "      for char1, box1 in zip(other_boxes[other]['char'], zip(\n",
        "          other_boxes[other]['left'], other_boxes[other]['bottom'],\n",
        "          other_boxes[other]['right'], other_boxes[other]['top']\n",
        "          )):\n",
        "        sim = box_sim(*box0, *box1)\n",
        "        if char1 in charsets[other] and (\n",
        "            sim >= box_sim_thresh or (sim > 0 and char_kin(char0, char1))):\n",
        "          matches.append((other, char1))\n",
        "    chars.append((char0, box0, choose_char(matches)))\n",
        "\n",
        "  for i, (left, top, width, height, conf, word0) in enumerate(zip(\n",
        "      data['left'], data['top'], data['width'], data['height'],\n",
        "      data['conf'], data['text']\n",
        "      )):\n",
        "    if int(conf) >= 0:\n",
        "      right, bottom = left + width, top + height\n",
        "      top, bottom = image.height - top, image.height - bottom\n",
        "      word = ''\n",
        "      for char0, box, char in chars:\n",
        "        if (char0 in word0) and box_sim(*box, left, bottom, right, top) > 0:\n",
        "          word += char\n",
        "      data['text'][i] = word\n",
        "  return data_to_string(data['text'])"
      ]
    },
    {
      "cell_type": "markdown",
      "metadata": {
        "id": "H7ZQjtbhmD8z"
      },
      "source": [
        "#VI. Statistics Of Our Performance"
      ]
    },
    {
      "cell_type": "markdown",
      "metadata": {
        "id": "LTe30mj9VG2P"
      },
      "source": [
        "Description:\n",
        "In this section, we will explore the process of conducting statistical analysis on Optical Character Recognition (OCR) results. By using data analysis tools and techniques, we can gain insights into the quality and reliability of the extracted text. This analysis allows for data-driven decision-making and the potential for improving OCR outcomes."
      ]
    },
    {
      "cell_type": "code",
      "execution_count": null,
      "metadata": {
        "id": "7R4z6xVGYrgf"
      },
      "outputs": [],
      "source": [
        "import pickle\n",
        "from scipy import stats\n",
        "with open('file.pickle', 'rb') as dbfile:\n",
        "  src = pickle.load(dbfile)"
      ]
    },
    {
      "cell_type": "code",
      "execution_count": null,
      "metadata": {
        "id": "0Zekk_AX5-My"
      },
      "outputs": [],
      "source": [
        "#This code computes and visualizes the distribution of 'heights' and 'confidences' from the 'src.metadata'.\n",
        "#It creates a histogram for 'heights' and a scatter plot of 'heights' against 'confidences'.\n",
        "heights = []\n",
        "for data in src.metadata:\n",
        "  if data is not None:\n",
        "    heights.append(data.height.median())\n",
        "plt.hist(heights, bins=list(range(0, 1, 1)))\n",
        "\n",
        "confidences = []\n",
        "for data in src.metadata:\n",
        "  if data is not None:\n",
        "    confidences.append(data.conf.median())\n",
        "plt.scatter(heights, confidences, s=1)\n",
        "plt.xlim(1, 30)"
      ]
    },
    {
      "cell_type": "code",
      "execution_count": null,
      "metadata": {
        "id": "cRjEyTX3ZKFV"
      },
      "outputs": [],
      "source": [
        "#calculating pearson r which is way to find correlation between heights and confidences\n",
        "stats.pearsonr(heights, confidences)"
      ]
    },
    {
      "cell_type": "code",
      "execution_count": null,
      "metadata": {
        "id": "xgnmvQasZIqX"
      },
      "outputs": [],
      "source": [
        "#This code calculates and displays the moving average of confidence ('movmeans') for bins of median word heights.\n",
        "#It groups confidence values by word height ranges, computes the mean confidence for each range, and then\n",
        "#visualizes this data using a scatter plot with 'median word height' on x-axis and 'mean confidence' on y-axis.\n",
        "movmeans = []\n",
        "bins = []\n",
        "for lower in list(range(10, 40, 2)):\n",
        "  bin = [confidences[i] for i, height in enumerate(heights) if lower <= height <= lower+2]\n",
        "  if bin:\n",
        "    movmeans.append(sum(bin) / len(bin))\n",
        "    bins.append(lower+1)\n",
        "plt.scatter(bins, movmeans)\n",
        "plt.ylabel('mean confidence')\n",
        "plt.xlabel('median word height');"
      ]
    },
    {
      "cell_type": "code",
      "execution_count": null,
      "metadata": {
        "id": "T8lQOibPZQH9"
      },
      "outputs": [],
      "source": [
        "#computing the median for height using inbuilt functions\n",
        "median(heights)"
      ]
    },
    {
      "cell_type": "code",
      "execution_count": null,
      "metadata": {
        "id": "ChhgDp8SeMQO"
      },
      "outputs": [],
      "source": [
        "# histogram for median height\n",
        "median_heights = [\n",
        "           data.height.median()\n",
        "           for data in [data for data in src.metadata if data is not None]\n",
        "]\n",
        "plt.hist(median_heights, bins=list(range(100)))\n",
        "plt.xlabel('height')\n",
        "plt.ylabel('frequency')"
      ]
    },
    {
      "cell_type": "code",
      "execution_count": null,
      "metadata": {
        "id": "_Awghxvdey0R"
      },
      "outputs": [],
      "source": [
        "#This code calculates and reports the mean wordwise and pagewise confidences from the 'src' data,\n",
        "#highlighting the number of pages analyzed with a confidence score of less than 75.\n",
        "mean_confidences = list(\n",
        "    conf for conf in src.mean_confidences if not pd.isna(conf))\n",
        "print('The mean wordwise confidence was {:.4f},\\nthe mean pagewise confidence '\n",
        "  'was {:.4f},\\nand {} pages were analyzed with a confidence of less than '\n",
        "  '75.'.format(\n",
        "      statistics.mean(\n",
        "          confidence\n",
        "          for data in [data for data in src.metadata if data is not None]\n",
        "          for confidence in data.conf if confidence > -1\n",
        "      ),\n",
        "      statistics.mean(mean_confidences),\n",
        "      sum(conf < 75 for conf in mean_confidences)\n",
        "  ))\n",
        "\n",
        "#Example of Output\n",
        "#The mean wordwise confidence was 88.3453,\n",
        "#the mean pagewise confidence was 86.2748,\n",
        "#and 31 pages were analyzed with a confidence of less than 75.\n"
      ]
    },
    {
      "cell_type": "markdown",
      "metadata": {
        "id": "T5N-DzNAVEfu"
      },
      "source": [
        "Functions for working on a large number of files"
      ]
    },
    {
      "cell_type": "code",
      "execution_count": null,
      "metadata": {
        "id": "DtQ7UHQ0THJ-"
      },
      "outputs": [],
      "source": [
        "#This code creates a bar plot with Seaborn, displaying the categorical distribution of 'true_orientation'\n",
        "#in degrees clockwise, including cumulative percentage distribution, helping analyze page orientation data.\n",
        "def bar(series, confidence=0.95):\n",
        "  categories = list(series.unique())\n",
        "  x = list()\n",
        "  y = list()\n",
        "  for value in series:\n",
        "    for category in categories:\n",
        "      x.append(category)\n",
        "      y.append(1 if category == value else 0)\n",
        "  frequencies = {\n",
        "      c: sum(y[i] for i, a in enumerate(x) if a == c) / len(series)\n",
        "      for c in categories\n",
        "  }\n",
        "  categories.sort(key=(lambda c: frequencies[c]), reverse=True)\n",
        "  ax = sns.barplot(\n",
        "      x=x,\n",
        "      y=y,\n",
        "      ci=confidence*100,\n",
        "      order=categories,\n",
        "  )\n",
        "  ax.set_ylabel('Frequency')\n",
        "  ax.plot(range(len(categories)), [\n",
        "      sum(frequencies[c] for c in categories[:i+1])\n",
        "      for i in range(len(categories))\n",
        "      ], 'm', marker='*', linestyle='solid')\n",
        "  return ax\n",
        "ax = bar(data.true_orientation, confidence=0.99)\n",
        "ax.set_xlabel('Orientation (Degrees Clockwise)')\n",
        "ax.set_title('Categorical Distribution of Page Orientation');"
      ]
    },
    {
      "cell_type": "code",
      "execution_count": null,
      "metadata": {
        "id": "tWtmn1i3ThAd"
      },
      "outputs": [],
      "source": [
        "#This code uses bootstrapping to analyze the 'true_orientation' data by comparing the proportions of '270' and '90' values and stores the results in 'ab_test'.\n",
        "def boot(series, statistic, n=100000):\n",
        "  values = list()\n",
        "  for _ in range(n):\n",
        "    sample = series.sample(frac=1, replace=True)\n",
        "    values.append(statistic(sample))\n",
        "  return values\n",
        "ab_test = boot(\n",
        "    data.true_orientation,\n",
        "    statistic=(\n",
        "        lambda s: (sum(s == '270') - sum(s == '90')) / len(s.index)\n",
        "    )\n",
        ")"
      ]
    },
    {
      "cell_type": "code",
      "execution_count": null,
      "metadata": {
        "id": "1PE3TBA1ThnO"
      },
      "outputs": [],
      "source": [
        "#This code generates a summary table of frequencies for the 'true_orientation' data, including confidence intervals.\n",
        "#It calculates the lower and upper bounds for the specified confidence level and then returns info in a DataFrame format.\n",
        "def frequencies(series, confidence=0.95, n_boot=10000):\n",
        "  alpha = 1 - confidence\n",
        "  counts = series.value_counts()\n",
        "  frequencies = counts / len(series.index)\n",
        "  boot_results = [\n",
        "      boot(series,\n",
        "           lambda seq: (sum(1 if s == a else 0 for s in seq) / len(seq)),\n",
        "           n_boot)\n",
        "      for a in counts.index\n",
        "  ]\n",
        "  lower = [\n",
        "           np.percentile(boot_results[i], alpha / 2 * 100)\n",
        "           for i in range(len(boot_results))\n",
        "  ]\n",
        "  upper = [\n",
        "           np.percentile(boot_results[i], 100 - alpha / 2 * 100)\n",
        "           for i in range(len(boot_results))\n",
        "  ]\n",
        "  return pd.DataFrame(\n",
        "      data={\n",
        "          'count': counts,\n",
        "          'frequency': frequencies,\n",
        "          '{:.0f}% CI Lower'.format(confidence * 1e2): lower,\n",
        "          '{:.0f}% CI Upper'.format(confidence * 1e2): upper,\n",
        "          },\n",
        "      index=frequencies.index\n",
        "  )\n",
        "frequencies(data.true_orientation)"
      ]
    },
    {
      "cell_type": "code",
      "execution_count": null,
      "metadata": {
        "id": "tbBznPHsTq6h"
      },
      "outputs": [],
      "source": [
        "#This is an example for two tailed test if you want more info please refer to online sources\n",
        "2 * sum(x < 0 for x in ab_test) / len(ab_test)"
      ]
    },
    {
      "cell_type": "code",
      "execution_count": null,
      "metadata": {
        "id": "c39eLVy4T0ia"
      },
      "outputs": [],
      "source": [
        "#This code defines a function, 'mean_confidence_bar,' to create a bar chart showing the mean confidence distribution\n",
        "#for a categorical variable ('x') in the 'data' and sorts categories by mean confidence.\n",
        "def mean_confidence_bar(data, x):\n",
        "  counts = data[x].value_counts()\n",
        "  categories = [c for c in data[x].unique() if counts[c] > 1]\n",
        "  categories.sort(\n",
        "      key=lambda c: data[(data[x] == c) & (data.mean_confidence != '')\n",
        "         ].mean_confidence.mean(),\n",
        "      reverse=True\n",
        "  )\n",
        "  ax = sns.barplot(\n",
        "      x=x,\n",
        "      y='mean_confidence',\n",
        "      data=data[data.mean_confidence != ''],\n",
        "      order=categories\n",
        "      )\n",
        "  ax.set_title('Mean Confidence by {}'.format(x))\n",
        "  return ax\n",
        "\n",
        "mean_confidence_bar(data, 'true_orientation')"
      ]
    },
    {
      "cell_type": "code",
      "execution_count": null,
      "metadata": {
        "id": "8ksHgvO4VqsL"
      },
      "outputs": [],
      "source": [
        "#Conducts bootstrapping to estimate a global accuracy value based on projected accuracies and the\n",
        "#number of words in each text.\n",
        "global_accuracies = boot(\n",
        "    pd.DataFrame(data={\n",
        "        'projected_accuracy': projected_accuracies,\n",
        "        'n_words': [\n",
        "           len(text.split()) for text in data[data.mean_confidence != ''].text\n",
        "        ]\n",
        "    }),\n",
        "    lambda df: df.apply(\n",
        "        (lambda row: row.n_words * row.projected_accuracy),\n",
        "        axis=1\n",
        "        ).sum() / df.n_words.sum(),\n",
        "    n=1000\n",
        ")"
      ]
    },
    {
      "cell_type": "markdown",
      "metadata": {
        "id": "lUVHyz-tXLmr"
      },
      "source": [
        "#Optional Module\n"
      ]
    },
    {
      "cell_type": "markdown",
      "metadata": {
        "id": "HSqyHi1PxPqt"
      },
      "source": [
        "In this module, we've got an exciting addition for you – an optional module designed to enhance your OCR (Optical Character Recognition) experience, especially when dealing with large files. We've developed a user-friendly interface that simplifies working with Tesseract, making it more efficient and accessible.\n",
        "\n",
        "With this optional module, you'll be able to seamlessly process extensive documents and images, saving you time and effort. Whether you're a newbie or an experienced user, this interface provides a streamlined workflow, ensuring that you can harness the power of Tesseract OCR with ease.\n",
        "\n",
        "So, whether you're working on lengthy scanned documents, image collections, or any other large-scale OCR project, our interface will be your trusty companion, making the process smoother and more efficient. Dive in, explore its features, and enjoy a more productive OCR experience!"
      ]
    },
    {
      "cell_type": "code",
      "execution_count": null,
      "metadata": {
        "id": "B95rs6BvykRr"
      },
      "outputs": [],
      "source": [
        "#This Python code defines a generic `WeightTracker` class that tracks the weights of items in a list, allowing\n",
        "#for weighted item addition and reordering. Additionally, it provides a list of common languages for OCR\n",
        " #(Optical Character Recognition) purposes.\n",
        "\n",
        "Item = TypeVar('Item', bound=Hashable)\n",
        "\n",
        "class WeightTracker(Generic[Item]):\n",
        "    def __init__(\n",
        "        self,\n",
        "        items: Sequence[Item],\n",
        "        presorted: bool = True,\n",
        "        r: float = 0.5\n",
        "    ):\n",
        "\n",
        "        self.items = list(items)\n",
        "        self.r = r\n",
        "        self.weights = {\n",
        "            item: (1 / (i + 1) if presorted else 0)\n",
        "            for i, item in enumerate(items)\n",
        "        }\n",
        "#Increases the weight given to `item` and re-orders the items by weight.\n",
        "    def add_weight(self, item: Item):\n",
        "\n",
        "        self.weights = {item: self.weights[item]\n",
        "                        * self.r for item in self.items}\n",
        "        self.weights[item] = self.weights.get(item, 0) + 1\n",
        "        self.items.sort(key=lambda item: self.weights[item], reverse=True)"
      ]
    },
    {
      "cell_type": "code",
      "execution_count": null,
      "metadata": {
        "id": "L8NZaHk1jXU1"
      },
      "outputs": [],
      "source": [
        "COMMON_LANGUAGES = [\n",
        "    'eng', 'tur', 'ara', 'deu', 'fra', 'rus', 'spa', 'nld',\n",
        "    'jpn', 'chi_sim', 'chi_tra', 'heb', 'ita', 'dan', 'swe',\n",
        "    'ell', 'lat', 'fin'\n",
        "]"
      ]
    },
    {
      "cell_type": "code",
      "execution_count": null,
      "metadata": {
        "id": "xUNkB_wtVq8W"
      },
      "outputs": [],
      "source": [
        "#This class, named `Text`, is designed for performing Optical Character Recognition (OCR) on documents.\n",
        " #  It includes various functionalities such as:\n",
        "#1. Initializing OCR parameters: It allows you to set parameters like image scaling, confidence thresholds, and language tracking.\n",
        "#2. Analyzing and processing pages: It reads text data from document pages, applies OCR, and records metadata, language, and confidence scores.\n",
        "#3. Handling language and scale optimization: It dynamically adjusts the language and image scale for OCR to improve accuracy.\n",
        "#4. Correcting OCR results: It has a correction mechanism that can replace low-confidence OCR results with higher-confidence alternatives.\n",
        "#5. Saving OCR output: It can save the OCR results, including text, language, and metadata, to CSV files and other formats.\n",
        "\n",
        "class Text:\n",
        "\n",
        "    global_possible_languages = COMMON_LANGUAGES + list(filter(\n",
        "        lambda key: key not in COMMON_LANGUAGES,\n",
        "        lang.langcodes.TESSERACT.keys()\n",
        "    ))\n",
        "    languages_by_script = {\n",
        "        'Latin': {\n",
        "            'eng', 'tur', 'deu', 'fra', 'spa', 'nld', 'ita', 'dan', 'swe',\n",
        "            'fin'\n",
        "        },\n",
        "        'Arabic': {'ara'},\n",
        "        'Cyrillic': {'rus'},\n",
        "        'Greek': {'ell'},\n",
        "        'Japanese': {'jpn'},\n",
        "        'Japanese_vert': {'jpn'},\n",
        "        'Han': {'chi_sim', 'chi_tra'},\n",
        "        'Hebrew': {'heb'},\n",
        "    }\n",
        "    iso2tess = {\n",
        "        'en': 'eng',\n",
        "        'tr': 'tur',\n",
        "        'ar': 'ara',\n",
        "        'de': 'deu',\n",
        "        'fr': 'fra',\n",
        "        'ru': 'rus',\n",
        "        'es': 'spa',\n",
        "        'nl': 'nld',\n",
        "        'ja': 'jpn',\n",
        "        'zh': 'chi_sim',\n",
        "        'zh': 'chi_tra',\n",
        "        'he': 'heb',\n",
        "        'it': 'ita',\n",
        "        'da': 'dan',\n",
        "        'sv': 'swe',\n",
        "        'el': 'ell',\n",
        "        'la': 'lat',\n",
        "        'fi': 'fin'\n",
        "    }\n",
        "\n",
        "    default_image_scale = 1.75\n",
        "    alternate_image_scales = (2, 4)\n",
        "    word_height_range = (14, 17)\n",
        "    target_word_height = 15.5\n",
        "    target_mean_conf = 90\n",
        "    max_unreadable = 5\n",
        "    max_n_foreign_words = 30\n",
        "\n",
        "    def __init__(\n",
        "        self,\n",
        "        src: os.PathLike,\n",
        "        out: os.PathLike,\n",
        "        coarse_thresh=75,\n",
        "        min_relative_conf=0,\n",
        "        image_area_thresh=0.5,\n",
        "        text_len_thresh=100,\n",
        "        languages: Optional[WeightTracker] = None,\n",
        "        second_languages=None,\n",
        "        verbose=False\n",
        "    ):\n",
        "\n",
        "        self.src = src\n",
        "        self.out = out\n",
        "        self.coarse_thresh = coarse_thresh\n",
        "        self.min_relative_conf = min_relative_conf\n",
        "        self.image_area_thresh = image_area_thresh\n",
        "        self.text_len_thresh = text_len_thresh\n",
        "        self.languages = (\n",
        "            WeightTracker(Text.global_possible_languages, presorted=True)\n",
        "            if languages is None else languages\n",
        "        )\n",
        "        self.second_languages = (\n",
        "            WeightTracker(Text.global_possible_languages, presorted=True)\n",
        "            if second_languages is None else second_languages\n",
        "        )\n",
        "        self.verbose = verbose\n",
        "        self.annotator = lang.detect.get_language_annotator()\n",
        "        self.texts = list()\n",
        "        self.metadata = list()\n",
        "        self.orientations = list()\n",
        "        self.page_languages = list()\n",
        "        self.mean_confidences = list()\n",
        "        self.used_original_texts = list()\n",
        "        self.times = list()\n",
        "        self.scales = list()\n",
        "\n",
        "\n",
        "    def save_ocr(self):\n",
        "        t0 = time.time()\n",
        "        document = fitz.open(self.src)  # type: ignore\n",
        "        for i, page in enumerate(document):\n",
        "            if self.verbose:\n",
        "                print('{} out of {} pages analyzed in {:.2f} seconds...'\n",
        "                      ''.format(i, len(document), time.time() - t0))\n",
        "            self._analyze_page(page)\n",
        "        os.makedirs(self.out, exist_ok=True)\n",
        "        pd.DataFrame(data={\n",
        "            'text': self.texts,\n",
        "            'orientation': self.orientations,\n",
        "            'language': self.page_languages,\n",
        "            'mean_confidence': self.mean_confidences,\n",
        "            'used_original_text': self.used_original_texts,\n",
        "            'time': self.times,\n",
        "            'scale': self.scales,\n",
        "        }).to_csv(os.path.join(self.out, 'page.csv'))\n",
        "        self.save()\n",
        "\n",
        "\n",
        "    def _analyze_page(self, page: fitz.Page):\n",
        "\n",
        "        original_text = page.get_text()  # type: ignore\n",
        "        if (\n",
        "            total_image_area(page) / page.bound().getArea()\n",
        "            < self.image_area_thresh\n",
        "            and not len([a for a in original_text if a == '�'])\n",
        "            > self.max_unreadable\n",
        "        ):\n",
        "            metadata, orientation_used, scale = None, None, None\n",
        "            language = detected_language(original_text)\n",
        "            self.texts.append(original_text)\n",
        "            self.mean_confidences.append(None)\n",
        "            used_original_text = True\n",
        "        else:\n",
        "            metadata, orientation_used, language, scale = self._run_ocr(\n",
        "                page,\n",
        "                (detected_language(original_text)\n",
        "                 if len(original_text) >= self.text_len_thresh\n",
        "                 else self.languages.items[0])\n",
        "            )\n",
        "            if mean_conf(metadata) < self.coarse_thresh:\n",
        "                warnings.warn('Failed to analyze image.')\n",
        "            self.texts.append(data_to_string(\n",
        "                metadata.corrected if 'corrected' in metadata.columns\n",
        "                else metadata.text\n",
        "            ))\n",
        "            self.mean_confidences.append(mean_conf(metadata))\n",
        "            used_original_text = False\n",
        "        self.languages.add_weight(language)\n",
        "        self.metadata.append(metadata)\n",
        "        self.orientations.append(orientation_used)\n",
        "        self.page_languages.append(language)\n",
        "        self.used_original_texts.append(used_original_text)\n",
        "        self.times.append(time.time())\n",
        "        self.scales.append(scale)\n",
        "\n",
        "\n",
        "    def _run_ocr(\n",
        "        self, page: fitz.Page, language_guess: str\n",
        "    ) -> Tuple[\n",
        "        Optional[pd.DataFrame],\n",
        "        Optional[float],\n",
        "        Optional[str],\n",
        "        Optional[float]\n",
        "    ]:\n",
        "        orientation_used = 0\n",
        "        scale_used = self.default_image_scale\n",
        "        image = image_from_page(page, scale=scale_used).rotate(  # type: ignore\n",
        "            orientation_used, expand=True)\n",
        "        try:\n",
        "            metadata = data(image, language_guess)\n",
        "        except TesseractError as e:\n",
        "            warnings.warn('Tesseract failed: ' + str(e))\n",
        "            return (None, None, None, None)\n",
        "        if mean_conf(metadata) < self.coarse_thresh:\n",
        "            if self.verbose:\n",
        "                print('First guess at orientation + language failed.')\n",
        "            for scale in self.alternate_image_scales:\n",
        "                image = image_from_page(page, scale=scale)\n",
        "                try:\n",
        "                    result = self._osd_assisted_analysis(image)\n",
        "                    if mean_conf(result[-1]) > mean_conf(metadata):\n",
        "                        orientation_used, language_guess, metadata = result\n",
        "                        scale_used = scale\n",
        "                    if mean_conf(metadata) >= self.coarse_thresh:\n",
        "                        break\n",
        "                except (TesseractError, ManagerError) as e:\n",
        "                    warnings.warn('OCR failed: ' + str(e))\n",
        "        metadata, language, scale_used = \\\n",
        "            self._final_pass_analysis(\n",
        "                metadata, page, language_guess, scale_used, orientation_used\n",
        "            )\n",
        "        return (metadata, orientation_used, language, scale_used)\n",
        "\n",
        "\n",
        "    def _osd_assisted_analysis(\n",
        "        self,\n",
        "        image: Image\n",
        "    ) -> Tuple[float, str, pd.DataFrame]:\n",
        "        osd_result = osd(image)\n",
        "        image = image.rotate(osd_result['Orientation in degrees'], expand=True)\n",
        "        if osd_result['Script'] not in lang.langcodes.SCRIPTS:\n",
        "            raise ManagerError('The script detected by OSD, \"{}\", is not '\n",
        "                               'supported.'.format(osd_result['Script']))\n",
        "        poss_languages = lang.langcodes.SCRIPTS[osd_result['Script']]\n",
        "        for language in self.languages.items:\n",
        "            if language in poss_languages:\n",
        "                return (osd_result['Orientation in degrees'], language,\n",
        "                        data(image, language))\n",
        "        raise ManagerError(\n",
        "            'There exists no language known to this Text instance that '\n",
        "            'corresponds to the script \"{}\".'.format(osd_result['Script'])\n",
        "        )\n",
        "\n",
        "\n",
        "    def _final_pass_analysis(\n",
        "        self,\n",
        "        metadata: pd.DataFrame,\n",
        "        page: fitz.Page,\n",
        "        language_used: str,\n",
        "        scale_used: float,\n",
        "        orientation_used: float,\n",
        "        words_to_erase: Optional[pd.DataFrame] = None,\n",
        "        max_depth: int = 5\n",
        "    ) -> Tuple[pd.DataFrame, str, float]:\n",
        "        median_height = metadata[is_text(metadata.text)].height.median()\n",
        "        language = detected_language(\n",
        "            data_to_string(metadata.text),\n",
        "            default=language_used\n",
        "        )\n",
        "        if not max_depth:\n",
        "            print(\n",
        "                'WARNING: Failed to complete final pass of analysis on the '\n",
        "                'text:\\n{}.'.format(data_to_string(metadata.text))\n",
        "            )\n",
        "        elif (\n",
        "            language != language_used\n",
        "            or (\n",
        "                mean_conf(metadata) < self.target_mean_conf\n",
        "                and median_height\n",
        "                and not pd.isna(median_height)\n",
        "                and not (\n",
        "                    self.word_height_range[0] <= median_height <=\n",
        "                    self.word_height_range[1]\n",
        "                )\n",
        "            )\n",
        "        ):\n",
        "            optimal_scale = (\n",
        "                scale_used * self.target_word_height / median_height\n",
        "            ) if median_height else scale_used\n",
        "            if self.verbose:\n",
        "                print('Retrying. Language={}, scale={:.4f}'.format(\n",
        "                    language, optimal_scale\n",
        "                ))\n",
        "            image = image_from_page(\n",
        "                page, scale=optimal_scale\n",
        "            ).rotate(  # type: ignore\n",
        "                orientation_used, expand=True\n",
        "            )\n",
        "            if words_to_erase is not None:\n",
        "                erase_words(image, words_to_erase, optimal_scale)\n",
        "            result = data(image, language)\n",
        "            if mean_conf(result) > mean_conf(metadata):\n",
        "                metadata = result\n",
        "                scale_used = optimal_scale\n",
        "            # Filter out \"words\" that are likely non-textual\n",
        "            metadata = metadata[  # FIXME: 2 is a magic number\n",
        "                (metadata.height < 2 * median_height)\n",
        "                & [isinstance(word, str) for word in metadata.text]\n",
        "            ]\n",
        "            annotations = [\n",
        "                lang.langcodes.bcp47_to_tess(annotation, language)\n",
        "                for annotation in self.annotator(metadata.text)\n",
        "            ]\n",
        "            was_wrong_lang = [\n",
        "                annotation != language for annotation in annotations\n",
        "            ]\n",
        "            if sum(was_wrong_lang) > self.max_n_foreign_words:\n",
        "                if self.verbose:\n",
        "                    print('The following text has mixed languages:\\n{}'.format(\n",
        "                        inline_annotations(metadata.text, annotations)\n",
        "                    ))\n",
        "                wrong_lang_metadata = metadata[was_wrong_lang]\n",
        "                if detected_language(\n",
        "                    data_to_string(wrong_lang_metadata.text),\n",
        "                    default=language\n",
        "                ) != language:\n",
        "                    metadata = metadata[[not x for x in was_wrong_lang]]\n",
        "                    other_languages_metadata, _, _ = self._final_pass_analysis(\n",
        "                            wrong_lang_metadata,\n",
        "                            page,\n",
        "                            language,\n",
        "                            optimal_scale,\n",
        "                            orientation_used,\n",
        "                            (\n",
        "                                metadata if words_to_erase is None\n",
        "                                else pd.concat([metadata, words_to_erase])\n",
        "                            ),\n",
        "                            max_depth - 1 - (\n",
        "                                len(metadata.index) < self.max_n_foreign_words\n",
        "                            ) # Hasten approach to the end of recursion if the\n",
        "                              # number of words taken out in this pass was small\n",
        "                        )\n",
        "                    # FIXME: Place the results in context according to location\n",
        "                    # instead of simply appending them to the end\n",
        "                    metadata = pd.concat([metadata, other_languages_metadata])\n",
        "        return metadata, language, scale_used\n",
        "\n",
        "\n",
        "    def _correct(self, image: Image, metadata: pd.DataFrame, min_conf: float):\n",
        "        def corrector(row):\n",
        "            if 0 <= row.conf < min_conf:\n",
        "                word_image = image.crop(  # type: ignore\n",
        "                    (row.left, row.top, row.left+row.width, row.top+row.height)\n",
        "                )\n",
        "                for language in self.second_languages.items:\n",
        "                    metadata = data(\n",
        "                        word_image, language,\n",
        "                        config='--psm 8'  # Expect a single word.\n",
        "                    )\n",
        "                    if mean_conf(metadata) >= min_conf:\n",
        "                        self.second_languages.add_weight(language)\n",
        "                        correct_word = data_to_string(metadata.text).strip()\n",
        "                        if self.verbose:\n",
        "                            print('Correcting \"{}\" to \"{}\" (lang={})'.format(\n",
        "                                row.text, correct_word, language))\n",
        "                        return correct_word\n",
        "            else:\n",
        "                return row.text\n",
        "        metadata['corrected'] = metadata.apply(corrector, axis=1)\n",
        "\n",
        "\n",
        "    def save(self):\n",
        "        self.annotator = None  # Null this out -- it need not be saved\n",
        "        with open(os.path.join(self.out, 'analysis.pickle'), 'wb') as dbfile:\n",
        "            pickle.dump(self, dbfile)"
      ]
    },
    {
      "cell_type": "code",
      "execution_count": null,
      "metadata": {
        "id": "GAmvudrGzBwY"
      },
      "outputs": [],
      "source": [
        "#Returns items in decreasing order by frequency, without any repetitions.\n",
        "def by_frequency(items: Iterable[Any]) -> List[Any]:\n",
        "\n",
        "    frequencies = dict()\n",
        "    ret = list()\n",
        "    for item in items:\n",
        "        frequencies[item] = frequencies.get(item, 0) + 1\n",
        "        if item not in ret:\n",
        "            ret.append(item)\n",
        "    return sorted(ret, key=lambda item: -frequencies[item])"
      ]
    },
    {
      "cell_type": "code",
      "execution_count": null,
      "metadata": {
        "id": "XjH_AL57zDw2"
      },
      "outputs": [],
      "source": [
        "#Erases the words that appear in `data` from `img`.\n",
        "def erase_words(img: Image, data: pd.DataFrame, scale: float = 1):\n",
        "    d = ImageDraw.Draw(img)\n",
        "    def erase_word(word):\n",
        "        d.rectangle(\n",
        "            (\n",
        "                word.left * scale,\n",
        "                word.top * scale,\n",
        "                (word.left + word.width) * scale,\n",
        "                (word.top + word.height) * scale\n",
        "            ),\n",
        "            fill='#fff'\n",
        "        )\n",
        "    data.apply(erase_word, axis=1)"
      ]
    },
    {
      "cell_type": "code",
      "execution_count": null,
      "metadata": {
        "id": "lgfR-UdJzGfy"
      },
      "outputs": [],
      "source": [
        "#Pairs strings with annotations and presents them in a human-readable format.\n",
        "def inline_annotations(words: Sequence[str], annotations: Sequence[str]) -> str:\n",
        "    return ' '.join(\n",
        "        f'{word}->{annotation}'\n",
        "        for word, annotation in list(zip(words, annotations))\n",
        "    )"
      ]
    },
    {
      "cell_type": "code",
      "execution_count": null,
      "metadata": {
        "id": "mjlCr3V3Q3gg"
      },
      "outputs": [],
      "source": [
        "#Returns the detected language of `text`, using the LangCode recognized by Tesseract\n",
        "def detected_language(\n",
        "    text: str,\n",
        "    default: str = 'eng',\n",
        "    nnli: NNetLanguageIdentifier = NNetLanguageIdentifier(1, 700)\n",
        "    ):\n",
        "    if not text.strip():\n",
        "        return default\n",
        "    result = nnli.FindLanguage(text)\n",
        "    if not result.probability:\n",
        "        return default\n",
        "    return lang.langcodes.bcp47_to_tess(result.language, default)"
      ]
    },
    {
      "cell_type": "code",
      "execution_count": null,
      "metadata": {
        "id": "_70wv_hTzJRo"
      },
      "outputs": [],
      "source": [
        "# This function converts a page from a PDF document (represented as a `fitz.Page`) into an image,\n",
        "#allowing for optional scaling, and returns it as a Pillow (PIL) Image object.\n",
        "def image_from_page(page: fitz.Page, scale: float = 1) -> Image:\n",
        "    pix = page.get_pixmap(matrix=fitz.Matrix(scale, scale))  # type: ignore\n",
        "    return Image.frombytes(  # type: ignore\n",
        "        (\"RGBA\" if pix.alpha else \"RGB\"),\n",
        "        (pix.width, pix.height), pix.samples\n",
        "    )"
      ]
    },
    {
      "cell_type": "code",
      "execution_count": null,
      "metadata": {
        "id": "rr4hOa36Q60b"
      },
      "outputs": [],
      "source": [
        "#Returns the total area (in pixels) consumed by images that appear in `page`. Does not account for overlap\n",
        "#between images, so it is possible for the total computed area to exceed the actual area of the page\n",
        "def total_image_area(page: fitz.Page) -> int:\n",
        "    return sum(\n",
        "        rect.getArea()\n",
        "        for image in page.get_images()\n",
        "        for rect in page.get_image_rects(image)  # type: ignore\n",
        "    )"
      ]
    },
    {
      "cell_type": "code",
      "execution_count": null,
      "metadata": {
        "id": "9u4CMrXuzNQk"
      },
      "outputs": [],
      "source": [
        "#Returns the mean confidence by word of the OCR output given by metadata\n",
        "def mean_conf(metadata: pd.DataFrame) -> float:\n",
        "    if metadata is None:\n",
        "        return 0\n",
        "    valid_confs = metadata.conf[(metadata.conf >= 0) & is_text(metadata.text)]\n",
        "    return valid_confs.mean() if len(valid_confs.index) > 0 else 0"
      ]
    },
    {
      "cell_type": "code",
      "execution_count": null,
      "metadata": {
        "id": "aWCMe1pAQ8ja"
      },
      "outputs": [],
      "source": [
        "# Returns a boolean array indicating which elements of `s` are text.\n",
        "def is_text(s: Iterable[str]) -> pd.array:\n",
        "    return pd.array([\n",
        "        (isinstance(text, str) and (text.strip() != '')) for text in s\n",
        "    ])"
      ]
    },
    {
      "cell_type": "code",
      "execution_count": null,
      "metadata": {
        "id": "tj-HoBSnzUNX"
      },
      "outputs": [],
      "source": [
        "#Returns orientation and script data for `image`.\n",
        "def osd(image: Image) -> dict:\n",
        "    s = pytesseract.image_to_osd(image)\n",
        "    ret = dict()\n",
        "    for line in s.split('\\n'):\n",
        "        if line:\n",
        "            key, value = line.split(':')\n",
        "            key, value = key.strip(), value.strip()\n",
        "            ret[key] = appropriate_type(value)\n",
        "    return ret"
      ]
    },
    {
      "cell_type": "code",
      "execution_count": null,
      "metadata": {
        "id": "pP_AmWrSQ-wQ"
      },
      "outputs": [],
      "source": [
        "# Returns a representation of `value` cast to the simplest possible type given its content.\n",
        "def appropriate_type(value: Any) -> Any:\n",
        "    try:\n",
        "        return int(value)\n",
        "    except ValueError:\n",
        "        try:\n",
        "            return float(value)\n",
        "        except ValueError:\n",
        "            return value"
      ]
    },
    {
      "cell_type": "code",
      "execution_count": null,
      "metadata": {
        "id": "-aHJBunZy9ZB"
      },
      "outputs": [],
      "source": [
        "# Returns a `DataFrame` with the OCR output corresponding to `image`.\n",
        "def data(image: Image, language: str, config: str = '') -> pd.DataFrame:\n",
        "    s = str(pytesseract.image_to_data(image, lang=language, config=config))\n",
        "    df = pd.read_csv(  # type: ignore\n",
        "        StringIO(s), sep='\\t', quoting=csv.QUOTE_NONE\n",
        "    )\n",
        "    df['language'] = [language] * len(df.index)\n",
        "    return df"
      ]
    },
    {
      "cell_type": "code",
      "execution_count": null,
      "metadata": {
        "id": "U1qXQUQqRBFc"
      },
      "outputs": [],
      "source": [
        "#Extracts a string from the metadata table column `words` that is identical to the one generated by\n",
        "#`pytesseract.image_to_string`. Used to avoid redundant computations.\n",
        "\n",
        "def data_to_string(words: Iterable[str]):\n",
        "    text = ' '.join('\\n' if pd.isna(word) else str(word) for word in words)\n",
        "    single_newline = re.compile(r' \\n ')\n",
        "    multiple_newline = re.compile(r'( \\n){2,} ')\n",
        "    text = multiple_newline.sub('\\n\\n', text)\n",
        "    text = single_newline.sub('\\n', text)\n",
        "    return text"
      ]
    },
    {
      "cell_type": "markdown",
      "metadata": {
        "id": "geCV6TYampIw"
      },
      "source": [
        "#VIII. Connect With Us"
      ]
    },
    {
      "cell_type": "markdown",
      "metadata": {
        "id": "IzlM6Rk7aMJo"
      },
      "source": [
        "We are excited to invite both students and professionals with an interest in cuneiform translation to join our project and become part of our growing community. If you are passionate about deciphering ancient scripts and uncovering the mysteries of ancient civilizations, we welcome your expertise and enthusiasm.\n",
        "\n",
        "By connecting with us, you can:\n",
        "\n",
        "1. **Contribute to Research:** Participate in our ongoing cuneiform translation project and help expand our understanding of these fascinating texts. Your contributions will directly contribute to the advancement of this field of study.\n",
        "\n",
        "2. **Collaborate with Experts:** Engage with a network of experts and like-minded individuals who share your passion for cuneiform translation. Collaborate on projects, share insights, and learn from one another.\n",
        "\n",
        "3. **Access Resources:** Gain access to valuable resources, reference materials, and tools that can aid in your translation endeavors. We are committed to providing a supportive environment for your research.\n",
        "\n",
        "4. **Stay Informed:** Receive updates on the latest developments in cuneiform studies, including new discoveries, research opportunities, and events within the field.\n",
        "\n",
        "\n",
        "To get involved or express your interest, please contact us at cuneiform@factgrid.eu to find more information about how you can be a part of our cuneiform translation community. Together, we can unlock the secrets of the past and contribute to the preservation of ancient knowledge. Join us in this exciting journey!"
      ]
    }
  ],
  "metadata": {
    "colab": {
      "collapsed_sections": [
        "VMlrjF2hmGv-"
      ],
      "provenance": []
    },
    "kernelspec": {
      "display_name": "Python 3",
      "name": "python3"
    },
    "language_info": {
      "codemirror_mode": {
        "name": "ipython",
        "version": 3
      },
      "file_extension": ".py",
      "mimetype": "text/x-python",
      "name": "python",
      "nbconvert_exporter": "python",
      "pygments_lexer": "ipython3",
      "version": "3.11.4"
    }
  },
  "nbformat": 4,
  "nbformat_minor": 0
}
